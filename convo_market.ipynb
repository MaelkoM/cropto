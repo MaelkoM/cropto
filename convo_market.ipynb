{
 "cells": [
  {
   "cell_type": "code",
   "execution_count": null,
   "metadata": {},
   "outputs": [],
   "source": [
    "import matplotlib.pyplot as plt\n",
    "import mpl_finance\n",
    "import numpy as np\n",
    "\n",
    "def graphwerk(open, high, low, close, instrument):\n",
    "    # Create Prefixes for correct data\n",
    "    if instrument == 'XAU/USD':\n",
    "        prefix = 'xau'\n",
    "    elif instrument == 'USOil':\n",
    "        prefix = 'USOil'\n",
    "    elif instrument == 'XAGUSD':\n",
    "        prefix = 'xag'\n",
    "    else:\n",
    "        print('Instrument prefix is not defined in graphwerk')\n",
    "        return\n",
    "\n",
    "    fig = plt.figure(num=1, figsize=(3, 3), dpi=50, facecolor='w', edgecolor='k')\n",
    "    dx = fig.add_subplot(111)\n",
    "    mpl_finance.candlestick2_ochl(dx, open, close, high, low, width=1.5, colorup='g', colordown='r', alpha=0.5)\n",
    "    plt.autoscale()\n",
    "    # Create a moving average overlay\n",
    "\n",
    "    sma = convolve_sma(close, 3)\n",
    "    smb = list(sma)\n",
    "    diff = sma[-1] - sma[-2]\n",
    "\n",
    "    for x in range(len(close) - len(smb)):\n",
    "        smb.append(smb[-1] + diff)\n",
    "\n",
    "    dx2 = dx.twinx()\n",
    "    dx2.plot(smb, color=\"blue\", linewidth=8, alpha=0.5)\n",
    "    dx2.axis('off')\n",
    "    dx.axis('off')\n",
    "\n",
    "    timestamp = int(time.time())\n",
    "    file_name = realtime_data + str(prefix) +str(timestamp) + '.jpg'\n",
    "    plt.savefig(file_name, bbox_inches='tight')\n",
    "    #Uncomment this line to see the plot right after script runs.\n",
    "    #plt.show\n",
    "    plt.close()\n",
    "    return file_name"
   ]
  },
  {
   "cell_type": "code",
   "execution_count": null,
   "metadata": {},
   "outputs": [],
   "source": [
    "model = Sequential()\n",
    "model.add(Convolution2D(nb_filters1, conv1_size, conv1_size, border_mode ='same', input_shape=(img_height, img_width , 3)))\n",
    "model.add(Activation('relu'))\n",
    "model.add(MaxPooling2D(pool_size=(pool_size, pool_size)))\n",
    "\n",
    "model.add(Convolution2D(nb_filters2, conv2_size, conv2_size, border_mode =\"same\"))\n",
    "model.add(Activation('relu'))\n",
    "model.add(MaxPooling2D(pool_size=(pool_size, pool_size), dim_ordering='th'))\n",
    "\n",
    "model.add(Convolution2D(nb_filters3, conv3_size, conv3_size, border_mode ='same'))\n",
    "model.add(Activation('relu'))\n",
    "model.add(MaxPooling2D(pool_size=(pool_size, pool_size), dim_ordering='th'))\n",
    "\n",
    "model.add(Flatten())\n",
    "model.add(Dense(1024))\n",
    "model.add(Activation('relu'))\n",
    "model.add(Dropout(0.5))\n",
    "model.add(Dense(classes_num, activation='softmax'))\n",
    "\n",
    "model.summary()\n",
    "model.compile(loss='categorical_crossentropy',\n",
    "                      optimizer=optimizers.rmsprop(),\n",
    "                      metrics=['accuracy'])\n",
    "\n"
   ]
  }
 ],
 "metadata": {
  "interpreter": {
   "hash": "e8cb04cd0a77f45ce9605bbd82907d21d963320d8c1b3d3d29ff6fbb66e2e647"
  },
  "kernelspec": {
   "display_name": "Python 3",
   "language": "python",
   "name": "python3"
  },
  "language_info": {
   "codemirror_mode": {
    "name": "ipython",
    "version": 3
   },
   "file_extension": ".py",
   "mimetype": "text/x-python",
   "name": "python",
   "nbconvert_exporter": "python",
   "pygments_lexer": "ipython3",
   "version": "3.8.10"
  }
 },
 "nbformat": 4,
 "nbformat_minor": 4
}

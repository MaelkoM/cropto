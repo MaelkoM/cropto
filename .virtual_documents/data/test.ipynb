import os
import io
import pandas as pd
from sqlalchemy import create_engine, Table, Column, Integer, String, MetaData, ForeignKey
import matplotlib.pyplot as plt
import seaborn as sns
import psycopg2
import pymongo
import numpy as np
from pmdarima.arima import auto_arima
from sklearn.linear_model import LinearRegression
from sklearn.model_selection import cross_val_score
from statsmodels.graphics.tsaplots import plot_pacf
from statsmodels.graphics.tsaplots import plot_acf
from statsmodels.tsa.ar_model import AutoReg, ar_select_order
from statsmodels.tsa.arima.model import ARIMA
from sklearn.model_selection import TimeSeriesSplit
import tqdm


conda install seaborn


user = "postgres"
password = "postgres"
host = "127.0.0.1"
port = "5432"
database = "cropto"
uri = f'postgresql://{user}:{password}@{host}:{port}/{database}'
engine = create_engine(uri, echo=True)
metadata = MetaData()





misc = Table("misc", metadata, Column("id", Integer, primary_key=True), Column("annotation", String),)
metadata.create_all(engine)


dataframes = {}

for file in tqdm.tqdm(os.listdir("./Kraken_OHLCVT/")):
    name = file.split(".")[0].lower()
    dataframes[name] = pd.read_csv("./Kraken_OHLCVT/" + file, sep=",", header=None, names=["timestamp", "open", "high", "low", "close", "volume", "trades"])
    dataframes[name]["timestamp"] = pd.to_datetime(dataframes[name]["timestamp"], unit="s")
    dataframes[name].head(0).to_sql(name, engine, if_exists='replace',index=False) #drops old table and creates new empty table
    
    # code below thanks to Aseem @ https://stackoverflow.com/questions/23103962/how-to-write-dataframe-to-postgres-table
    conn = engine.raw_connection()
    cur = conn.cursor()
    output = io.StringIO()
    dataframes[name].to_csv(output, sep='\t', header=False, index=False, chunksize=10000)
    output.seek(0)
    contents = output.getvalue()
    cur.copy_from(output, name, null="") # null values become ''
    conn.commit()



query = "SELECT \"timestamp\", \"close\" FROM \"MLNEUR_1\";"
df_enz = pd.read_sql(query, engine, index_col="timestamp")

query = "SELECT \"timestamp\", \"close\" FROM \"XBTEUR_1\";"
df_btc = pd.read_sql(query, engine, index_col="timestamp")


df_btc.head()


df_btc["YEAR"] = df_btc.index.year
df_btc["MONTH"] = df_btc.index.month
df_btc["DAY"] = df_btc.index.day


X_train, y_train = df_btc[:-1440], df_btc["close"][:-1440]
X_test, y_test = df_btc[-1440:], df_btc["close"][-1440:]


X_train["BL"] = range(len(X_train))
X_test["BL"] = range(len(X_test))
X_test["BL"] = X_test["BL"] + len(X_train)


linreg_bl = LinearRegression()
X_train_bl, y_train_train = X_train[["BL"]][:-1440], X_train["close"][:-1440]
X_test_bl, y_test_train = X_train[["BL"]][-1440:], X_train["close"][-1440:]

plt.rcParams['figure.figsize']=(15,5)
sns.residplot(x=X_test_bl, y=y_test_train)
plt.show()


linreg_bl.fit(X_train_bl, y_train_train)
y_pred_bl = linreg_bl.predict(X_test_bl)

plt.rcParams['figure.figsize']=(15,5)
plt.plot(X_train.index[-1440:], y_test_train, label="y_test_train")
plt.plot(X_train.index[-1440:], y_pred_bl, label="y_baseline")
plt.show()


remainder = y_train - np.append(linreg_bl.predict(X_train_bl), linreg_bl.predict(X_test_bl))
X_train.loc[:,"remainder_bl"] = remainder


tscv = TimeSeriesSplit(n_splits = 10)
time_cv = tscv.split(X_train_bl, y_train_train)
est = LinearRegression()
r_squared_scores = cross_val_score(estimator=est, X=X_train_bl, y=y_train_train, cv=time_cv, n_jobs=-1)
baseline_score = r_squared_scores.mean()
print(baseline_score)


X_train_smpl = X_train[["YEAR", "MONTH", "DAY"]][:-1440]
X_test_smpl = X_train[["YEAR", "MONTH", "DAY"]][-1440:]
fig, axes = plt.subplots(len(X_test_smpl.columns), 1, figsize=(15, 15))
n = 0
for column in X_test_smpl.columns:
    sns.residplot(ax=axes[n], x=X_test_smpl[column], y=y_test_train)
    n +=1
plt.show()


linreg_smpl = LinearRegression()
linreg_smpl.fit(X_train_smpl, y_train_train)
y_pred_smpl = linreg_smpl.predict(X_test_smpl)
plt.plot(X_train.index[-1440:], y_test_train)
plt.plot(X_train.index[-1440:], y_pred_smpl)
plt.show()


remainder = y_train - np.append(linreg_smpl.predict(X_train_smpl), linreg_smpl.predict(X_test_smpl))
X_train.loc[:,"remainder_smpl"] = remainder


tscv = TimeSeriesSplit(n_splits = 10)
time_cv = tscv.split(X_train_smpl, y_train_train)
est = LinearRegression()
r_squared_scores = cross_val_score(estimator=est, X=X_train_smpl, y=y_train_train, cv=time_cv, n_jobs=-1)
simple_linreg_score = r_squared_scores.mean()
print(simple_linreg_score)


def insert_temporal_dummies(dataframe):
    seasonal_dummies = pd.get_dummies(dataframe.index.month,
                                      prefix='month',
                                      drop_first=True).set_index(dataframe.index)
    day_dummies = pd.get_dummies(dataframe.index.day,
                                      prefix='day',
                                      drop_first=True).set_index(dataframe.index)
    dataframe = dataframe.join(seasonal_dummies).join(day_dummies)
    return dataframe

X_train = insert_temporal_dummies(X_train)
X_test = insert_temporal_dummies(X_test)


X_train_ts = X_train[['BL', 'month_2', 'month_3', 'month_4',
       'month_5', 'month_6', 'month_7', 'month_8', 'month_9', 'month_10',
       'month_11', 'month_12', 'day_2', 'day_3', 'day_4', 'day_5', 'day_6',
       'day_7', 'day_8', 'day_9', 'day_10', 'day_11', 'day_12', 'day_13',
       'day_14', 'day_15', 'day_16', 'day_17', 'day_18', 'day_19', 'day_20',
       'day_21', 'day_22', 'day_23', 'day_24', 'day_25', 'day_26', 'day_27',
       'day_28', 'day_29', 'day_30', 'day_31']][:-1440]
X_test_ts = X_train[['BL', 'month_2', 'month_3', 'month_4',
       'month_5', 'month_6', 'month_7', 'month_8', 'month_9', 'month_10',
       'month_11', 'month_12', 'day_2', 'day_3', 'day_4', 'day_5', 'day_6',
       'day_7', 'day_8', 'day_9', 'day_10', 'day_11', 'day_12', 'day_13',
       'day_14', 'day_15', 'day_16', 'day_17', 'day_18', 'day_19', 'day_20',
       'day_21', 'day_22', 'day_23', 'day_24', 'day_25', 'day_26', 'day_27',
       'day_28', 'day_29', 'day_30', 'day_31']][-1440:]


linreg_ts = LinearRegression()
linreg_ts.fit(X_train_ts,y_train_train)
y_pred_ts = linreg_ts.predict(X_test_ts)
plt.plot(X_train.index[-1440:], y_test_train)
plt.plot(X_train.index[-1440:], y_pred_ts)
plt.show()


tscv = TimeSeriesSplit(n_splits = 10)
time_cv = tscv.split(X_train_ts, y_train_train)
est = LinearRegression()
r_squared_scores = cross_val_score(estimator=est, X=X_train_ts, y=y_train_train, cv=time_cv, n_jobs=-1)
ts_linreg_score = r_squared_scores.mean()
print(ts_linreg_score)


X_train.loc[:,"remainder_ts"] = y_train - np.append(linreg_ts.predict(X_train_ts), linreg_ts.predict(X_test_ts))


plt.rcParams['figure.figsize']=(15,5)

for n in (1,2,3,4,5):
    name_plot = f"lag_{n}"
    X_train[name_plot] = X_train['remainder_ts'].shift(n)
    print(f"Correlation score for lag={n}: {X_train[name_plot].corr(X_train['remainder_ts'])}")
    name_plot = sns.regplot(data=X_train, x=name_plot, y='remainder_ts', label=f"lag {n}", fit_reg=True, scatter=True,
                            scatter_kws={'alpha':0.05,'s':20})
plt.show()


plt.rcParams['figure.figsize']=(15,5)
print(plot_pacf(X_train['remainder_ts']))
print(plot_acf(X_train['remainder_ts']))



X = X_train[
    ['BL', 'month_2', 'month_3', 'month_4', 'month_5', 'month_6', 'month_7', 'month_8', 'month_9', 'month_10',
     'month_11', 'month_12', 'day_2', 'day_3', 'day_4', 'day_5', 'day_6', 'day_7', 'day_8', 'day_9', 'day_10',
     'day_11', 'day_12', 'day_13', 'day_14', 'day_15', 'day_16', 'day_17', 'day_18', 'day_19', 'day_20',
     'day_21', 'day_22', 'day_23', 'day_24', 'day_25', 'day_26', 'day_27', 'day_28', 'day_29', 'day_30', 'day_31']
].values
y = X_train["close"]


selected_order = ar_select_order(endog=X_train["remainder_ts"], maxlag=5, glob=True, old_names=False)
selected_order.ar_lags


for lag in range(1,4):
    stats_ar = AutoReg(endog=X_train['remainder_ts'], lags=lag, old_names=False).fit()
    stats_ar.summary()
    print(f"lag {lag}: {stats_ar.pvalues}")


stats_ar1 = AutoReg(endog=y_train, lags=5, old_names=False).fit()
X_train["pred_remainder_ar1"] = stats_ar1.predict()
stats_ar1.summary()


stats_ar1.predict()


X_train_lag = X_train[
    ['BL', 'month_2', 'month_3', 'month_4', 'month_5', 'month_6', 'month_7', 'month_8', 'month_9', 'month_10',
     'month_11', 'month_12', 'day_2', 'day_3', 'day_4', 'day_5', 'day_6', 'day_7', 'day_8', 'day_9', 'day_10',
     'day_11', 'day_12', 'day_13', 'day_14', 'day_15', 'day_16', 'day_17', 'day_18', 'day_19', 'day_20',
     'day_21', 'day_22', 'day_23', 'day_24', 'day_25', 'day_26', 'day_27', 'day_28', 'day_29', 'day_30', 'day_31', "lag_1"]][1:-1440]
X_test_lag = X_train[
    ['BL', 'month_2', 'month_3', 'month_4', 'month_5', 'month_6', 'month_7', 'month_8', 'month_9', 'month_10',
     'month_11', 'month_12', 'day_2', 'day_3', 'day_4', 'day_5', 'day_6', 'day_7', 'day_8', 'day_9', 'day_10',
     'day_11', 'day_12', 'day_13', 'day_14', 'day_15', 'day_16', 'day_17', 'day_18', 'day_19', 'day_20',
     'day_21', 'day_22', 'day_23', 'day_24', 'day_25', 'day_26', 'day_27', 'day_28', 'day_29', 'day_30', 'day_31', "lag_1"]][-1440:]


time_cv = tscv.split(X_train_lag[4:], y_train_train[5:])
est = LinearRegression()
r_squared_scores = cross_val_score(estimator=est, X=X_train_lag[4:], y=y_train_train[5:], cv=time_cv)
lag_linreg_score = r_squared_scores.mean()
print(lag_linreg_score)


linreg_lag = LinearRegression()
linreg_lag.fit(X_train_lag[4:], y_train_train[5:])
y_pred_lag = linreg_lag.predict(X_test_lag)


remainder_lag = np.append([y_train[0:5]], y_train[5:] - np.append(linreg_lag.predict(X_train_lag[4:]), y_pred_lag))
X_train.loc[:,"remainder_lag"] = remainder_lag


arima_model = ARIMA(endog=X_train['remainder_bl'], order=(4,0,1)).fit()
X_train["pred_remainder_arima"] = arima_model.predict()
arima_model.summary()


print(arima_model.plot_diagnostics())








autoarima = auto_arima(df_btc, start_p=0, max_p=2, start_q=0, max_q=2)



autoarima.order


autoarima.summary()


df = df_enz.join(df_btc, how="outer", lsuffix="enz", rsuffix="btc")
df


plt.plot(df.index[-10000:], df["closeenz"][-10000:]/df["closeenz"][-10000:].mean(), "r")
plt.plot(df.index[-10000:], df["closebtc"][-10000:]/df["closebtc"][-10000:].mean(), "b")
plt.grid(True)
plt.show()







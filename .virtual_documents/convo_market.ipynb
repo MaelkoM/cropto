import matplotlib.pyplot as plt
import mpl_finance
import numpy as np

def graphwerk(open, high, low, close, instrument):
    # Create Prefixes for correct data
    if instrument == 'XAU/USD':
        prefix = 'xau'
    elif instrument == 'USOil':
        prefix = 'USOil'
    elif instrument == 'XAGUSD':
        prefix = 'xag'
    else:
        print('Instrument prefix is not defined in graphwerk')
        return

    fig = plt.figure(num=1, figsize=(3, 3), dpi=50, facecolor='w', edgecolor='k')
    dx = fig.add_subplot(111)
    mpl_finance.candlestick2_ochl(dx, open, close, high, low, width=1.5, colorup='g', colordown='r', alpha=0.5)
    plt.autoscale()
    # Create a moving average overlay

    sma = convolve_sma(close, 3)
    smb = list(sma)
    diff = sma[-1] - sma[-2]

    for x in range(len(close) - len(smb)):
        smb.append(smb[-1] + diff)

    dx2 = dx.twinx()
    dx2.plot(smb, color="blue", linewidth=8, alpha=0.5)
    dx2.axis('off')
    dx.axis('off')

    timestamp = int(time.time())
    file_name = realtime_data + str(prefix) +str(timestamp) + '.jpg'
    plt.savefig(file_name, bbox_inches='tight')
    #Uncomment this line to see the plot right after script runs.
    #plt.show
    plt.close()
    return file_name


model = Sequential()
model.add(Convolution2D(nb_filters1, conv1_size, conv1_size, border_mode ='same', input_shape=(img_height, img_width , 3)))
model.add(Activation('relu'))
model.add(MaxPooling2D(pool_size=(pool_size, pool_size)))

model.add(Convolution2D(nb_filters2, conv2_size, conv2_size, border_mode ="same"))
model.add(Activation('relu'))
model.add(MaxPooling2D(pool_size=(pool_size, pool_size), dim_ordering='th'))

model.add(Convolution2D(nb_filters3, conv3_size, conv3_size, border_mode ='same'))
model.add(Activation('relu'))
model.add(MaxPooling2D(pool_size=(pool_size, pool_size), dim_ordering='th'))

model.add(Flatten())
model.add(Dense(1024))
model.add(Activation('relu'))
model.add(Dropout(0.5))
model.add(Dense(classes_num, activation='softmax'))

model.summary()
model.compile(loss='categorical_crossentropy',
                      optimizer=optimizers.rmsprop(),
                      metrics=['accuracy'])



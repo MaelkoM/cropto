import requests
import json
import websockets
import asyncio
import krakenex
from pykrakenapi import KrakenAPI
import pandas as pd
import time
import config
from tqdm import tqdm


pip install websockets


STREAM_URL = 'wss://ws.kraken.com'
AUTH_URL = "wss://ws-auth.kraken.com"
TOKEN_URL = "https://api.kraken.com/0/private/GetWebSocketsToken"
KRAKEN_API = "https://api.kraken.com/0/public/Assets"
API_KEY = config.API_KEY
PRIVATE_KEY = config.PRIVATE_KEY


payload = {"event": "subscribe",
           "pair": [
               "BTC/EUR",
               "ADA/EUR"
           ],
           "subscription": {
               "name": "ticker"
           }
          }


async def test():
    async with websockets.connect(STREAM_URL) as websocket:
        await websocket.send(payload)
        print(payload)

        answer = await websocket.recv()
        print(f"< {answer}")
test()


api = krakenex.API(key=API_KEY, secret=PRIVATE_KEY)
k = KrakenAPI(api)
data = k.get_asset_info()
data.head(20)


data1 = requests.get(KRAKEN_API).json()
data1


pairs = k.get_tradable_asset_pairs()
pairs[pairs["base"] == "XMLN"].tail(20)


ticker = k.get_ticker_information("XLMXBT")
ticker.T


help(KrakenAPI)


currencies = data["altname"].to_list()[:-7]
currencies.append('ZRX')
currencies = [currency for currency in currencies if not currency == "CH" and "." not in currency]
currencies


ohlc_dict = {}
timestamp = int(time.time() * 1000)
for currency in tqdm(currencies):
    print(currency)
    ohlc_dict[currency] = k.get_ohlc_data(f"{currency}EUR", ascending=True, interval=1440)[0]


ohlc_nano = k.get_ohlc_data("XLMXBT", ascending=True, interval=720)[0]
ohlc_nano


ohlc_btc = k.get_ohlc_data("BTCEUR", interval=240, ascending=True, since=0)[0]
ohlc_btc


import matplotlib.pyplot as plt
import seaborn as sns


ohlc_atom_btc = k.get_ohlc_data("ATOMBTC", ascending=True, interval=240)[0]
ohlc_atom_btc


get_ipython().run_line_magic("matplotlib", " inline")
plt.figure(figsize=(15,10))
sns.lineplot(x=ohlc_btc.index, y=(ohlc_nano["close"] / ohlc_nano["close"].mean()), label="NANO")
sns.lineplot(x=ohlc_btc.index, y=(ohlc_btc["close"] / ohlc_btc["close"].mean()), label="BTC")
sns.lineplot(x=ohlc_btc.index, y=1, color="black")
sns.lineplot(x=ohlc_btc.index, y=(ohlc_nano_btc["close"] / ohlc_nano_btc["close"].mean()), label="NANO_BTC")
sns.lineplot(x=ohlc_btc.index, y=(ohlc_atom_btc["close"] / ohlc_atom_btc["close"].mean()), label="ATOM_BTC")
plt.show()


get_ipython().run_line_magic("matplotlib", " inline")
plt.figure(figsize=(15,10))
sns.lineplot(x=ohlc_btc.index, y=(ohlc_nano["close"] / ohlc_btc["close"]), label="NANO/BTC")
sns.lineplot(x=ohlc_btc.index, y=0, color="black")
plt.show()


ohlc[0]['20 SMA'] = ohlc[0]['close'].rolling(20).mean()
ohlc[0].tail()


while True:
    
    try:
        BTC_old = float((kraken.get_ticker_information('BTCUSD'))['b'][0][0])
    except Exception as e:
        print(f'Unable to obtain BTC data: {e}')
    
    sleep(60)
    
    try:
        BTC_new = float((kraken.get_ticker_information('BTCUSD'))['b'][0][0])
    except Exception as e:
        print(f'Unable to obtain BTC data: {e}')
    
    percent = ((BTC_new - BTC_old)*100) / BTC_old
    
    if percent >= 5:
        try:
            ETH = float((kraken.get_ticker_information('ETHUSD'))['a'][0][0]) + 2
            
            response = kraken.add_standard_order(pair='ETHUSD', type='buy', ordertype='limit', 
                                                 volume='0.007', price=ETH, validate=False)
            print(response)
        except Exception as e:
            print(f'Error placing order: {e}')
    
        sleep(3)
    
        check_order = kraken.query_orders_info(response['txid'][0])
    
        if check_order['status'][0] == 'open' or 'closed':
            print('Order completed sucessfully')
            break
        else:
            print('Order rejected')
            break
    else:
        print('Requirement not reached')


book = k.get_order_book('NANOEUR', count = 20)
print(book[0].head())
print(book[1].head())


df = pd.merge(book[0], book[1], left_index=True, right_index=True)
df = df.rename({"price_x":"Bid Price","volume_x":"Bid Amount", "time_x":"Bid Time",
                "price_y":"Ask Price","volume_y":"Ask Amount", "time_y":"Ask Time"}, axis='columns')
df


int(time.time() * 1000)





from __future__ import print_function, division

from tensorflow.keras.datasets import mnist
from keras.layers.merge import _Merge
from tensorflow.keras.layers import Input, Dense, Reshape, Flatten, Dropout
from tensorflow.keras.layers import BatchNormalization, Activation, ZeroPadding2D
from tensorflow.keras.layers.advanced_activations import LeakyReLU
from tensorflow.keras.layers.convolutional import UpSampling2D, Conv2D
from tensorflow.keras.models import Sequential, Model
from tensorflow.keras.optimizers import RMSprop
from functools import partial

import keras.backend as K

import matplotlib.pyplot as plt

import sys

import numpy as np

class RandomWeightedAverage(_Merge):
    """Provides a (random) weighted average between real and generated image samples"""
    def _merge_function(self, inputs):
        alpha = K.random_uniform((32, 1, 1, 1))
        return (alpha * inputs[0]) + ((1 - alpha) * inputs[1])

class WGANGP():
    def __init__(self):
        self.img_rows = 28
        self.img_cols = 28
        self.channels = 1
        self.img_shape = (self.img_rows, self.img_cols, self.channels)
        self.latent_dim = 100

        # Following parameter and optimizer set as recommended in paper
        self.n_critic = 5
        optimizer = RMSprop(lr=0.00005)

        # Build the generator and critic
        self.generator = self.build_generator()
        self.critic = self.build_critic()

        #-------------------------------
        # Construct Computational Graph
        #       for the Critic
        #-------------------------------

        # Freeze generator's layers while training critic
        self.generator.trainable = False

        # Image input (real sample)
        real_img = Input(shape=self.img_shape)

        # Noise input
        z_disc = Input(shape=(self.latent_dim,))
        # Generate image based of noise (fake sample)
        fake_img = self.generator(z_disc)

        # Discriminator determines validity of the real and fake images
        fake = self.critic(fake_img)
        valid = self.critic(real_img)

        # Construct weighted average between real and fake images
        interpolated_img = RandomWeightedAverage()([real_img, fake_img])
        # Determine validity of weighted sample
        validity_interpolated = self.critic(interpolated_img)

        # Use Python partial to provide loss function with additional
        # 'averaged_samples' argument
        partial_gp_loss = partial(self.gradient_penalty_loss,
                          averaged_samples=interpolated_img)
        partial_gp_loss.__name__ = 'gradient_penalty' # Keras requires function names

        self.critic_model = Model(inputs=[real_img, z_disc],
                            outputs=[valid, fake, validity_interpolated])
        self.critic_model.compile(loss=[self.wasserstein_loss,
                                              self.wasserstein_loss,
                                              partial_gp_loss],
                                        optimizer=optimizer,
                                        loss_weights=[1, 1, 10])
        #-------------------------------
        # Construct Computational Graph
        #         for Generator
        #-------------------------------

        # For the generator we freeze the critic's layers
        self.critic.trainable = False
        self.generator.trainable = True

        # Sampled noise for input to generator
        z_gen = Input(shape=(self.latent_dim,))
        # Generate images based of noise
        img = self.generator(z_gen)
        # Discriminator determines validity
        valid = self.critic(img)
        # Defines generator model
        self.generator_model = Model(z_gen, valid)
        self.generator_model.compile(loss=self.wasserstein_loss, optimizer=optimizer)


    def gradient_penalty_loss(self, y_true, y_pred, averaged_samples):
        """
        Computes gradient penalty based on prediction and weighted real / fake samples
        """
        gradients = K.gradients(y_pred, averaged_samples)[0]
        # compute the euclidean norm by squaring ...
        gradients_sqr = K.square(gradients)
        #   ... summing over the rows ...
        gradients_sqr_sum = K.sum(gradients_sqr,
                                  axis=np.arange(1, len(gradients_sqr.shape)))
        #   ... and sqrt
        gradient_l2_norm = K.sqrt(gradients_sqr_sum)
        # compute lambda * (1 - ||grad||)^2 still for each single sample
        gradient_penalty = K.square(1 - gradient_l2_norm)
        # return the mean as loss over all the batch samples
        return K.mean(gradient_penalty)


    def wasserstein_loss(self, y_true, y_pred):
        return K.mean(y_true * y_pred)

    def build_generator(self):

        model = Sequential()

        model.add(Dense(128 * 7 * 7, activation="relu", input_dim=self.latent_dim))
        model.add(Reshape((7, 7, 128)))
        model.add(UpSampling2D())
        model.add(Conv2D(128, kernel_size=4, padding="same"))
        model.add(BatchNormalization(momentum=0.8))
        model.add(Activation("relu"))
        model.add(UpSampling2D())
        model.add(Conv2D(64, kernel_size=4, padding="same"))
        model.add(BatchNormalization(momentum=0.8))
        model.add(Activation("relu"))
        model.add(Conv2D(self.channels, kernel_size=4, padding="same"))
        model.add(Activation("tanh"))

        model.summary()

        noise = Input(shape=(self.latent_dim,))
        img = model(noise)

        return Model(noise, img)

    def build_critic(self):

        model = Sequential()

        model.add(Conv2D(16, kernel_size=3, strides=2, input_shape=self.img_shape, padding="same"))
        model.add(LeakyReLU(alpha=0.2))
        model.add(Dropout(0.25))
        model.add(Conv2D(32, kernel_size=3, strides=2, padding="same"))
        model.add(ZeroPadding2D(padding=((0,1),(0,1))))
        model.add(BatchNormalization(momentum=0.8))
        model.add(LeakyReLU(alpha=0.2))
        model.add(Dropout(0.25))
        model.add(Conv2D(64, kernel_size=3, strides=2, padding="same"))
        model.add(BatchNormalization(momentum=0.8))
        model.add(LeakyReLU(alpha=0.2))
        model.add(Dropout(0.25))
        model.add(Conv2D(128, kernel_size=3, strides=1, padding="same"))
        model.add(BatchNormalization(momentum=0.8))
        model.add(LeakyReLU(alpha=0.2))
        model.add(Dropout(0.25))
        model.add(Flatten())
        model.add(Dense(1))

        model.summary()

        img = Input(shape=self.img_shape)
        validity = model(img)

        return Model(img, validity)

    def train(self, epochs, batch_size, sample_interval=50):

        # Load the dataset
        (X_train, _), (_, _) = mnist.load_data()

        # Rescale -1 to 1
        X_train = (X_train.astype(np.float32) - 127.5) / 127.5
        X_train = np.expand_dims(X_train, axis=3)

        # Adversarial ground truths
        valid = -np.ones((batch_size, 1))
        fake =  np.ones((batch_size, 1))
        dummy = np.zeros((batch_size, 1)) # Dummy gt for gradient penalty
        for epoch in range(epochs):

            for _ in range(self.n_critic):

                # ---------------------
                #  Train Discriminator
                # ---------------------

                # Select a random batch of images
                idx = np.random.randint(0, X_train.shape[0], batch_size)
                imgs = X_train[idx]
                # Sample generator input
                noise = np.random.normal(0, 1, (batch_size, self.latent_dim))
                # Train the critic
                d_loss = self.critic_model.train_on_batch([imgs, noise],
                                                                [valid, fake, dummy])

            # ---------------------
            #  Train Generator
            # ---------------------

            g_loss = self.generator_model.train_on_batch(noise, valid)

            # Plot the progress
            print ("%d [D loss: %f] [G loss: %f]" % (epoch, d_loss[0], g_loss))

            # If at save interval => save generated image samples
            if epoch % sample_interval == 0:
                self.sample_images(epoch)

    def sample_images(self, epoch):
        r, c = 5, 5
        noise = np.random.normal(0, 1, (r * c, self.latent_dim))
        gen_imgs = self.generator.predict(noise)

        # Rescale images 0 - 1
        gen_imgs = 0.5 * gen_imgs + 0.5

        fig, axs = plt.subplots(r, c)
        cnt = 0
        for i in range(r):
            for j in range(c):
                axs[i,j].imshow(gen_imgs[cnt, :,:,0], cmap='gray')
                axs[i,j].axis('off')
                cnt += 1
        fig.savefig("images/mnist_%d.png" % epoch)
        plt.close()


if __name__ == '__main__':
    wgan = WGANGP()
    wgan.train(epochs=30000, batch_size=32, sample_interval=100)


pip install keras


import numpy as np
lists = len((1,2,3,4,5,6,7,8,9))
span = list(np.array(lists) - )



